{
  "nbformat": 4,
  "nbformat_minor": 0,
  "metadata": {
    "colab": {
      "provenance": [],
      "include_colab_link": true
    },
    "kernelspec": {
      "name": "python3",
      "display_name": "Python 3"
    },
    "language_info": {
      "name": "python"
    }
  },
  "cells": [
    {
      "cell_type": "markdown",
      "metadata": {
        "id": "view-in-github",
        "colab_type": "text"
      },
      "source": [
        "<a href=\"https://colab.research.google.com/github/IngridAlmeida/PROGRAMARIA-CICLO-11-14h/blob/main/Exerc%C3%ADcio_Final_sabado.ipynb\" target=\"_parent\"><img src=\"https://colab.research.google.com/assets/colab-badge.svg\" alt=\"Open In Colab\"/></a>"
      ]
    },
    {
      "cell_type": "markdown",
      "source": [
        "# Contagem de Medalhas\n",
        "\n",
        "Crie um programa que receba o número de medalhas de ouro, prata e bronze de um país nas Olimpíadas e calcule o total de medalhas.\n",
        "Quando escrever 'sair', o programa deverá encerrar e mostrar na tela o ranking de medalhas no formato:"
      ],
      "metadata": {
        "id": "RQN1e5FZY6SZ"
      }
    },
    {
      "cell_type": "code",
      "source": [
        "#Ranking de medalhas:\n",
        "#Brasil: 7 medalhas\n",
        "#França: 6 medalhas\n",
        "#Argentina: 3 medalhas"
      ],
      "metadata": {
        "id": "gCq_KLHzZSzb"
      },
      "execution_count": null,
      "outputs": []
    },
    {
      "source": [
        "# Resposta aqui\n",
        "\n",
        "# Listas para armazenar os países e o total de medalhas\n",
        "paises = []\n",
        "total_medalhas = []\n",
        "\n",
        "while True:\n",
        "    # Solicitando o nome do país\n",
        "    pais = input(\"Digite o nome do país (ou 'sair' para encerrar): \")\n",
        "    if pais == 'sair':\n",
        "        break\n",
        "\n",
        "    # Solicitando o número de medalhas\n",
        "    ouro = input(\"Digite o número de medalhas de ouro: \")\n",
        "    prata = input(\"Digite o número de medalhas de prata: \")\n",
        "    bronze = input(\"Digite o número de medalhas de bronze: \")\n",
        "\n",
        "    # Convertendo os valores para inteiros diretamente\n",
        "    ouro = int(ouro)\n",
        "    prata = int(prata)\n",
        "    bronze = int(bronze)\n",
        "\n",
        "    # Calculando o total de medalhas\n",
        "    total = ouro + prata + bronze\n",
        "\n",
        "    # Adicionando os dados nas listas\n",
        "    paises.append(pais)\n",
        "    total_medalhas.append(total)\n",
        "\n",
        "# Ordenando os países com base no total de medalhas em ordem decrescente\n",
        "n = len(total_medalhas)\n",
        "for i in range(n):\n",
        "    for j in range(i + 1, n):\n",
        "        if total_medalhas[i] < total_medalhas[j]:\n",
        "\n",
        "            total_medalhas[i], total_medalhas[j] = total_medalhas[j], total_medalhas[i]\n",
        "\n",
        "            paises[i], paises[j] = paises[j], paises[i]\n",
        "\n",
        "# Exibindo o ranking\n",
        "print(\"\\nRanking de Medalhas:\")\n",
        "for i in range(len(paises)):\n",
        "    print(f\"{paises[i]}: {total_medalhas[i]} medalhas\")"
      ],
      "cell_type": "code",
      "metadata": {
        "colab": {
          "base_uri": "https://localhost:8080/"
        },
        "id": "DNvGJvZYCKev",
        "outputId": "2b0a285c-f129-4b04-f408-cceb11d1c94d"
      },
      "execution_count": 17,
      "outputs": [
        {
          "output_type": "stream",
          "name": "stdout",
          "text": [
            "Digite o nome do país (ou 'sair' para encerrar): Brasil\n",
            "Digite o número de medalhas de ouro: 3\n",
            "Digite o número de medalhas de prata: 3\n",
            "Digite o número de medalhas de bronze: 1\n",
            "Digite o nome do país (ou 'sair' para encerrar): França\n",
            "Digite o número de medalhas de ouro: 2\n",
            "Digite o número de medalhas de prata: 2\n",
            "Digite o número de medalhas de bronze: 2\n",
            "Digite o nome do país (ou 'sair' para encerrar): Argentina\n",
            "Digite o número de medalhas de ouro: 1\n",
            "Digite o número de medalhas de prata: 1\n",
            "Digite o número de medalhas de bronze: 1\n",
            "Digite o nome do país (ou 'sair' para encerrar): sair\n",
            "\n",
            "Ranking de Medalhas:\n",
            "Brasil: 7 medalhas\n",
            "França: 6 medalhas\n",
            "Argentina: 3 medalhas\n"
          ]
        }
      ]
    }
  ]
}