{
  "nbformat": 4,
  "nbformat_minor": 0,
  "metadata": {
    "colab": {
      "provenance": [],
      "toc_visible": true,
      "include_colab_link": true
    },
    "kernelspec": {
      "name": "python3",
      "display_name": "Python 3"
    },
    "language_info": {
      "name": "python"
    }
  },
  "cells": [
    {
      "cell_type": "markdown",
      "metadata": {
        "id": "view-in-github",
        "colab_type": "text"
      },
      "source": [
        "<a href=\"https://colab.research.google.com/github/IngridAlmeida/PROGRAMARIA-CICLO-11-14h/blob/main/C%C3%B3pia_de_Exerc%C3%ADcios.ipynb\" target=\"_parent\"><img src=\"https://colab.research.google.com/assets/colab-badge.svg\" alt=\"Open In Colab\"/></a>"
      ]
    },
    {
      "cell_type": "markdown",
      "source": [
        "*Para a realização desses exercícios, peço que configurem para não aparecer sugestões da IA Gemini*"
      ],
      "metadata": {
        "id": "pAFFoVXs4XQo"
      }
    },
    {
      "cell_type": "markdown",
      "source": [
        "### A) **Utilizando variáveis, gere uma apresentação curta de sí mesma, como nesse exemplo**:\n",
        "\n"
      ],
      "metadata": {
        "id": "rZbJ_1LJ2DLf"
      }
    },
    {
      "cell_type": "code",
      "source": [
        "# Oi! Eu sou a Amanda, tenho 30 anos, moro em Salvador e meu signo é Gêmeos"
      ],
      "metadata": {
        "id": "ibKRn-P37-b2"
      },
      "execution_count": null,
      "outputs": []
    },
    {
      "cell_type": "code",
      "source": [
        "# Dica: As variáveis podem ser algo como:\n",
        "nome = 'Amanda'\n",
        "idade = 30\n",
        "cidade = 'Salvador'\n",
        "signo = 'Gêmeos'"
      ],
      "metadata": {
        "id": "n0Rjb0s_2ula"
      },
      "execution_count": null,
      "outputs": []
    },
    {
      "cell_type": "code",
      "source": [
        "# Resposta aqui:\n",
        "nome = input('Qual é o seu nome? ')\n",
        "idade = input('Qual a sua idade ')\n",
        "cidade = input('Qual cidade voce mora? ')\n",
        "signo = input('Qual signo? ')\n",
        "\n",
        "print(f'Oi! Eu sou a {nome}, tenho {idade} anos, moro na cidade {cidade} e meu signo é {signo}')"
      ],
      "metadata": {
        "id": "kil7YL7Z3AoV",
        "outputId": "10fbcb98-9c69-4c5f-98d5-cca9ae5b9276",
        "colab": {
          "base_uri": "https://localhost:8080/"
        }
      },
      "execution_count": null,
      "outputs": [
        {
          "output_type": "stream",
          "name": "stdout",
          "text": [
            "Qual é o seu nome? Ingrid\n",
            "Qual a sua idade 34\n",
            "Qual cidade voce mora? rio de janeiro\n",
            "Qual signo? cancer\n",
            "Oi! Eu sou a Ingrid, tenho 34 anos, moro na cidade rio de janeiro e meu signo é cancer\n"
          ]
        }
      ]
    },
    {
      "cell_type": "markdown",
      "source": [
        "\n",
        "\n",
        "---\n",
        "\n"
      ],
      "metadata": {
        "id": "dgkbPq2JK7ES"
      }
    },
    {
      "cell_type": "markdown",
      "source": [
        "### B) **Qual o maior valor dessa lista de gastos?**\n",
        "\n"
      ],
      "metadata": {
        "id": "jQnXX8Ii348J"
      }
    },
    {
      "cell_type": "code",
      "source": [
        "gastos = [10.60, 11.99, 5.50, 10, 45.99, 7.50, 4.00]"
      ],
      "metadata": {
        "id": "8CeAhHTf9aYk"
      },
      "execution_count": null,
      "outputs": []
    },
    {
      "cell_type": "code",
      "source": [
        "# O valor mais caro é: 45.99"
      ],
      "metadata": {
        "id": "EWRw9Zkn-RWL"
      },
      "execution_count": null,
      "outputs": []
    },
    {
      "cell_type": "code",
      "source": [
        "# Resposta aqui\n",
        "\n",
        "maior_valor = max(gastos)\n",
        "print(maior_valor)\n",
        "\n"
      ],
      "metadata": {
        "id": "muN_hCwu-dWp",
        "outputId": "5dea4a61-4940-47c6-a190-61288f64fb5b",
        "colab": {
          "base_uri": "https://localhost:8080/"
        }
      },
      "execution_count": null,
      "outputs": [
        {
          "output_type": "stream",
          "name": "stdout",
          "text": [
            "45.99\n"
          ]
        }
      ]
    },
    {
      "cell_type": "markdown",
      "source": [
        "\n",
        "\n",
        "---\n",
        "\n"
      ],
      "metadata": {
        "id": "skCyGhKG-gpv"
      }
    },
    {
      "cell_type": "markdown",
      "source": [
        "### C) **Qual a média dessa lista?**:\n",
        "\n"
      ],
      "metadata": {
        "id": "7-fmR1dU9Lmm"
      }
    },
    {
      "cell_type": "code",
      "source": [
        "numeros = [10,80,50,90,70]"
      ],
      "metadata": {
        "id": "_x74pbVn7t91"
      },
      "execution_count": null,
      "outputs": []
    },
    {
      "cell_type": "code",
      "source": [
        "# A média dos números é: 60.0"
      ],
      "metadata": {
        "id": "QGJ9F4go8nmt"
      },
      "execution_count": null,
      "outputs": []
    },
    {
      "cell_type": "code",
      "source": [
        "# Resposta aqui\n",
        "media = sum(numeros) / len(numeros)\n",
        "print(media)\n"
      ],
      "metadata": {
        "id": "C8SOjNdB8Ptz",
        "outputId": "5960ee9c-e22c-4180-9c9b-b5b760bd5381",
        "colab": {
          "base_uri": "https://localhost:8080/"
        }
      },
      "execution_count": null,
      "outputs": [
        {
          "output_type": "stream",
          "name": "stdout",
          "text": [
            "60.0\n"
          ]
        }
      ]
    },
    {
      "cell_type": "markdown",
      "source": [
        "\n",
        "\n",
        "---\n",
        "\n"
      ],
      "metadata": {
        "id": "A5riB5veK95b"
      }
    },
    {
      "cell_type": "markdown",
      "source": [
        "### D) **Qual a média final dessas notas, qual a maior e qual a menor nota**"
      ],
      "metadata": {
        "id": "goAxWssZ_N5a"
      }
    },
    {
      "cell_type": "code",
      "source": [
        "notas = [10,7.8, 6, 8, 9]\n"
      ],
      "metadata": {
        "id": "_IY5S15p_YIR"
      },
      "execution_count": 2,
      "outputs": []
    },
    {
      "cell_type": "code",
      "source": [
        "# A média final é 8.16. A sua maior nota foi 10 e a menor nota foi 6!"
      ],
      "metadata": {
        "id": "Xa-J0VSI_6YZ"
      },
      "execution_count": null,
      "outputs": []
    },
    {
      "cell_type": "code",
      "source": [
        "# Calculando a média\n",
        "media = sum(notas) / len(notas)\n",
        "\n",
        "# Encontrando a maior e a menor nota\n",
        "maior_nota = max(notas)\n",
        "menor_nota = min(notas)\n",
        "\n",
        "print(f\"Média final: {media}\")\n",
        "print(f\"Maior nota: {maior_nota}\")\n",
        "print(f\"Menor nota: {menor_nota}\")"
      ],
      "metadata": {
        "id": "x2gju0f4p6uB",
        "outputId": "1ec494c2-3285-483a-cef6-5c28cb02b48e",
        "colab": {
          "base_uri": "https://localhost:8080/"
        }
      },
      "execution_count": 3,
      "outputs": [
        {
          "output_type": "stream",
          "name": "stdout",
          "text": [
            "Média final: 8.16\n",
            "Maior nota: 10\n",
            "Menor nota: 6\n"
          ]
        }
      ]
    },
    {
      "cell_type": "markdown",
      "source": [
        "\n",
        "\n",
        "---\n",
        "\n"
      ],
      "metadata": {
        "id": "ifwPeyZQK-2l"
      }
    },
    {
      "cell_type": "markdown",
      "source": [
        "### E) **Com as mesmas informações do exercício anterior, apresente se a aluna foi APROVADA ou REPROVADA**"
      ],
      "metadata": {
        "id": "p8L7DdPbApDN"
      }
    },
    {
      "cell_type": "markdown",
      "source": [
        "*  Se a média for igual ou superior a 6 apresentar a mensagem \"Parabéns, você foi APROVADA!\"\n",
        "*  Se a média for menor, apresentar \"Não foi dessa vez, infelizmente você foi REPROVADA!\""
      ],
      "metadata": {
        "id": "kb21A5Z1A7CU"
      }
    },
    {
      "cell_type": "code",
      "source": [
        "# Parabéns você foi aprovada!"
      ],
      "metadata": {
        "id": "InjCDLOZBZhC"
      },
      "execution_count": null,
      "outputs": []
    },
    {
      "cell_type": "code",
      "source": [
        "# Resposta aqui\n",
        "# Calculando a média\n",
        "media = sum(notas) / len(notas)\n",
        "\n",
        "# Encontrando a maior e a menor nota\n",
        "maior_nota = max(notas)\n",
        "menor_nota = min(notas)\n",
        "\n",
        "# Verifico se a aluna foi aprovada ou reprovada\n",
        "if media >= 6:\n",
        "    resultado = \"Parabéns, você foi APROVADA!\"\n",
        "else:\n",
        "    resultado = \"Não foi dessa vez, infelizmente você foi REPROVADA!\"\n",
        "\n",
        "print(f\"Média final: {media}\")\n",
        "print(f\"Maior nota: {maior_nota}\")\n",
        "print(f\"Menor nota: {menor_nota}\")\n",
        "print(resultado)"
      ],
      "metadata": {
        "id": "g2nUuyoUalog",
        "outputId": "46555628-f64b-4bc0-8da4-c5865f66a25d",
        "colab": {
          "base_uri": "https://localhost:8080/"
        }
      },
      "execution_count": null,
      "outputs": [
        {
          "output_type": "stream",
          "name": "stdout",
          "text": [
            "Média final: 8.16\n",
            "Maior nota: 10\n",
            "Menor nota: 6\n",
            "Parabéns, você foi APROVADA!\n"
          ]
        }
      ]
    },
    {
      "cell_type": "markdown",
      "source": [
        "\n",
        "\n",
        "---\n",
        "\n"
      ],
      "metadata": {
        "id": "X5Ya3MHRK_4N"
      }
    },
    {
      "cell_type": "markdown",
      "source": [
        "### F) **Desenvolva um programa que realize as quatro operações básicas (adição, subtração, multiplicação e divisão) entre dois números. A usuária deve escolher a operação e inserir os valores**"
      ],
      "metadata": {
        "id": "YT8vTnW2ENVL"
      }
    },
    {
      "cell_type": "code",
      "source": [
        "#Digite o primeiro número: 10\n",
        "#Digite o segundo número: 20\n",
        "#Digite a operação (+, -, *, /): +\n",
        "#Resultado: 30.0"
      ],
      "metadata": {
        "id": "gpmOjgseE4aD"
      },
      "execution_count": null,
      "outputs": []
    },
    {
      "cell_type": "code",
      "source": [
        "# Resposta aqui\n",
        "# Solicita os números\n",
        "num1 = float(input(\"Digite o primeiro número: \"))\n",
        "num2 = float(input(\"Digite o segundo número: \"))\n",
        "\n",
        "# Solicita a operação\n",
        "operacao = input(\"Digite a operação (+, -, *, /): \")\n",
        "\n",
        "# Realiza a operação escolhida\n",
        "if operacao == '+':\n",
        "    resultado = num1 + num2\n",
        "elif operacao == '-':\n",
        "    resultado = num1 - num2\n",
        "elif operacao == '*':\n",
        "    resultado = num1 * num2\n",
        "elif operacao == '/':\n",
        "    if num2 != 0:\n",
        "        resultado = num1 / num2\n",
        "    else:\n",
        "        resultado = \"Erro: Divisão por zero!\"\n",
        "else:\n",
        "    resultado = \"Operação inválida!\"\n",
        "\n",
        "# Exibe o resultado\n",
        "print(f\"Resultado: {resultado}\")\n",
        "\n"
      ],
      "metadata": {
        "id": "iTu22D0VEinD",
        "colab": {
          "base_uri": "https://localhost:8080/"
        },
        "outputId": "6a5cb1c6-b103-4d54-cd42-1441aa89bd6e"
      },
      "execution_count": 7,
      "outputs": [
        {
          "output_type": "stream",
          "name": "stdout",
          "text": [
            "Digite o primeiro número: 10\n",
            "Digite o segundo número: 20\n",
            "Digite a operação (+, -, *, /): +\n",
            "Resultado: 30.0\n"
          ]
        }
      ]
    },
    {
      "cell_type": "markdown",
      "source": [
        "\n",
        "\n",
        "---\n",
        "\n"
      ],
      "metadata": {
        "id": "X0ZvZeNCLA04"
      }
    },
    {
      "cell_type": "markdown",
      "source": [
        "### G) **Faça um Programa que leia três números e mostre-os em ordem decrescente.**"
      ],
      "metadata": {
        "id": "vdf5rEiZF5KM"
      }
    },
    {
      "cell_type": "code",
      "source": [
        "# Resposta aqui\n",
        "# Solicita os três números\n",
        "num1 = int(input(\"Digite o primeiro número: \"))\n",
        "num2 = int(input(\"Digite o segundo número: \"))\n",
        "num3 = int(input(\"Digite o terceiro número: \"))\n",
        "\n",
        "# Coloca os números em uma lista\n",
        "numeros = [num1, num2, num3]\n",
        "\n",
        "# Ordena a lista em ordem decrescente\n",
        "numeros.sort(reverse=True)\n",
        "\n",
        "# Exibe os números em ordem decrescente\n",
        "print(\"Números em ordem decrescente:\", numeros)\n"
      ],
      "metadata": {
        "id": "PMPrtPEOF7eE",
        "colab": {
          "base_uri": "https://localhost:8080/"
        },
        "outputId": "8f727dbf-2d74-4510-e7ec-ebaf2739d06c"
      },
      "execution_count": 9,
      "outputs": [
        {
          "output_type": "stream",
          "name": "stdout",
          "text": [
            "Digite o primeiro número: 2\n",
            "Digite o segundo número: 1\n",
            "Digite o terceiro número: 4\n",
            "Números em ordem decrescente: [4, 2, 1]\n"
          ]
        }
      ]
    },
    {
      "cell_type": "markdown",
      "source": [
        "\n",
        "\n",
        "---\n",
        "\n"
      ],
      "metadata": {
        "id": "lX9BdmxyLBtt"
      }
    },
    {
      "cell_type": "markdown",
      "source": [
        "### H) **Faça uma função que retorne o reverso de um número inteiro informado. Por exemplo: 153 -> 351**"
      ],
      "metadata": {
        "id": "p0A-lta0Gmcq"
      }
    },
    {
      "cell_type": "code",
      "source": [
        "# Resposta aqui\n",
        "def reverter_numero(n):\n",
        "    # Converte o número para string\n",
        "    n_str = str(n)\n",
        "\n",
        "    # Inverte a string\n",
        "    n_reverso_str = n_str[::-1]\n",
        "\n",
        "    # Converte a string invertida de volta para inteiro\n",
        "    n_reverso = int(n_reverso_str)\n",
        "\n",
        "    return n_reverso\n",
        "\n",
        "# Exemplo de uso\n",
        "numero = int(input(\"Digite um número inteiro: \"))\n",
        "resultado = reverter_numero(numero)\n",
        "print(f\"O reverso de {numero} é {resultado}\")\n",
        "\n",
        "\n"
      ],
      "metadata": {
        "id": "0Ppk5OneHom-",
        "colab": {
          "base_uri": "https://localhost:8080/"
        },
        "outputId": "43c7e7fd-09e0-459c-eb2b-bc5e085355e8"
      },
      "execution_count": 11,
      "outputs": [
        {
          "output_type": "stream",
          "name": "stdout",
          "text": [
            "Digite um número inteiro: 456\n",
            "O reverso de 456 é 654\n"
          ]
        }
      ]
    },
    {
      "cell_type": "markdown",
      "source": [
        "\n",
        "\n",
        "---\n",
        "\n"
      ],
      "metadata": {
        "id": "GWlXyhTlLCii"
      }
    },
    {
      "cell_type": "markdown",
      "source": [
        "### I) **Faça um programa que solicite o nome do usuário e imprima-o em formato de escada.**"
      ],
      "metadata": {
        "id": "4DKAX96gKJZv"
      }
    },
    {
      "cell_type": "code",
      "source": [
        "#Digite seu nome: amanda\n",
        "#a\n",
        "#am\n",
        "#ama\n",
        "#aman\n",
        "#amand\n",
        "#amanda"
      ],
      "metadata": {
        "id": "yRsRy144KKds"
      },
      "execution_count": null,
      "outputs": []
    },
    {
      "cell_type": "code",
      "source": [
        "# Resposta aqui\n",
        "# Solicita o nome do usuário\n",
        "nome = input(\"Digite seu nome: \")\n",
        "\n",
        "# Imprime o nome em formato de escada\n",
        "for i in range(1, len(nome) + 1):\n",
        "    print(nome[:i])\n"
      ],
      "metadata": {
        "id": "N2ohocU_KO08",
        "colab": {
          "base_uri": "https://localhost:8080/"
        },
        "outputId": "ce781083-4f5a-47a5-db7b-0c520cee05a6"
      },
      "execution_count": 10,
      "outputs": [
        {
          "output_type": "stream",
          "name": "stdout",
          "text": [
            "Digite seu nome: ingrid\n",
            "i\n",
            "in\n",
            "ing\n",
            "ingr\n",
            "ingri\n",
            "ingrid\n"
          ]
        }
      ]
    }
  ]
}